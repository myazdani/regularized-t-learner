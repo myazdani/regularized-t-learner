{
 "cells": [
  {
   "cell_type": "code",
   "execution_count": 1,
   "id": "97f1a069-05a5-46d3-bbb1-0f3fcb760949",
   "metadata": {},
   "outputs": [
    {
     "name": "stderr",
     "output_type": "stream",
     "text": [
      "/opt/anaconda3/envs/pl-uplift/lib/python3.10/site-packages/tqdm/auto.py:22: TqdmWarning: IProgress not found. Please update jupyter and ipywidgets. See https://ipywidgets.readthedocs.io/en/stable/user_install.html\n",
      "  from .autonotebook import tqdm as notebook_tqdm\n"
     ]
    }
   ],
   "source": [
    "from torch import optim, nn, utils, Tensor\n",
    "import torch.nn.functional as F\n",
    "import pytorch_lightning as pl\n",
    "import torch\n",
    "\n",
    "from sklift.datasets import fetch_lenta\n",
    "\n",
    "import pandas as pd \n",
    "import numpy as np\n",
    "\n",
    "from sklift.models import ClassTransformation\n",
    "from sklearn.linear_model import LogisticRegressionCV, LogisticRegression"
   ]
  },
  {
   "cell_type": "markdown",
   "id": "3b30f3e4-6c27-4f9a-b349-216c043727bb",
   "metadata": {},
   "source": [
    "### data prep"
   ]
  },
  {
   "cell_type": "code",
   "execution_count": 2,
   "id": "c5f21420-5381-4db5-aafe-90d37f472a6b",
   "metadata": {},
   "outputs": [],
   "source": [
    "dataset = fetch_lenta()"
   ]
  },
  {
   "cell_type": "code",
   "execution_count": 3,
   "id": "ab389b90-f975-4bce-844d-83182646e5c2",
   "metadata": {},
   "outputs": [
    {
     "data": {
      "text/html": [
       "<div>\n",
       "<style scoped>\n",
       "    .dataframe tbody tr th:only-of-type {\n",
       "        vertical-align: middle;\n",
       "    }\n",
       "\n",
       "    .dataframe tbody tr th {\n",
       "        vertical-align: top;\n",
       "    }\n",
       "\n",
       "    .dataframe thead th {\n",
       "        text-align: right;\n",
       "    }\n",
       "</style>\n",
       "<table border=\"1\" class=\"dataframe\">\n",
       "  <thead>\n",
       "    <tr style=\"text-align: right;\">\n",
       "      <th>response_att</th>\n",
       "      <th>0</th>\n",
       "      <th>1</th>\n",
       "    </tr>\n",
       "    <tr>\n",
       "      <th>group</th>\n",
       "      <th></th>\n",
       "      <th></th>\n",
       "    </tr>\n",
       "  </thead>\n",
       "  <tbody>\n",
       "    <tr>\n",
       "      <th>control</th>\n",
       "      <td>0.897421</td>\n",
       "      <td>0.102579</td>\n",
       "    </tr>\n",
       "    <tr>\n",
       "      <th>test</th>\n",
       "      <td>0.889874</td>\n",
       "      <td>0.110126</td>\n",
       "    </tr>\n",
       "  </tbody>\n",
       "</table>\n",
       "</div>"
      ],
      "text/plain": [
       "response_att         0         1\n",
       "group                           \n",
       "control       0.897421  0.102579\n",
       "test          0.889874  0.110126"
      ]
     },
     "execution_count": 3,
     "metadata": {},
     "output_type": "execute_result"
    }
   ],
   "source": [
    "pd.crosstab(dataset.treatment, dataset.target, normalize='index')"
   ]
  },
  {
   "cell_type": "code",
   "execution_count": 4,
   "id": "8a0d2d81-69b8-4c97-9d63-f86c0980655b",
   "metadata": {},
   "outputs": [],
   "source": [
    "# make treatment binary\n",
    "treat_dict = {\n",
    "    'test': 1,\n",
    "    'control': 0\n",
    "}\n",
    "\n",
    "dataset.treatment = dataset.treatment.map(treat_dict)"
   ]
  },
  {
   "cell_type": "code",
   "execution_count": 17,
   "id": "e620390a-a300-4d8b-a78b-c23449bda7dd",
   "metadata": {},
   "outputs": [],
   "source": [
    "numeric_cols = dataset.data.columns[dataset.data.apply(lambda x: pd.api.types.is_numeric_dtype(x))]\n",
    "X = dataset.data[numeric_cols].fillna(0).values"
   ]
  },
  {
   "cell_type": "code",
   "execution_count": 18,
   "id": "9dc75849-f439-45c8-b3a5-7db14fed428d",
   "metadata": {},
   "outputs": [
    {
     "name": "stdout",
     "output_type": "stream",
     "text": [
      "Train shape: (480920, 192)\n",
      "Validation shape: (206109, 192)\n"
     ]
    }
   ],
   "source": [
    "from sklearn.model_selection import train_test_split\n",
    "#stratify by two columns: treatment and target.\n",
    "# Intuition: In a binary classification problem definition we stratify \n",
    "# train set by splitting target 0/1 column. In uplift modeling we have two\n",
    "# columns instead of one.\n",
    "\n",
    "stratify_cols = pd.concat([dataset.treatment, dataset.target], axis=1)\n",
    "\n",
    "X_train, X_val, trmnt_train, trmnt_val, y_train, y_val = train_test_split(\n",
    "    X,\n",
    "    dataset.treatment,\n",
    "    dataset.target,\n",
    "    stratify=stratify_cols,\n",
    "    test_size=0.3,\n",
    "    random_state=42\n",
    ")\n",
    "\n",
    "print(f\"Train shape: {X_train.shape}\")\n",
    "print(f\"Validation shape: {X_val.shape}\")"
   ]
  },
  {
   "cell_type": "code",
   "execution_count": 19,
   "id": "bf9caf35-e65e-4798-9a31-3c6ee51d80be",
   "metadata": {},
   "outputs": [],
   "source": [
    "z_tr = trmnt_train*y_train + (1-y_train)*(1-trmnt_train)\n",
    "z_ts = trmnt_val*y_val + (1-y_val)*(1-trmnt_val)"
   ]
  },
  {
   "cell_type": "markdown",
   "id": "178e443a-efc4-496c-b615-f80bf55fa9b4",
   "metadata": {
    "tags": []
   },
   "source": [
    "### Data loaders"
   ]
  },
  {
   "cell_type": "code",
   "execution_count": 30,
   "id": "394d0acb-9f17-4e32-9963-9129f578877f",
   "metadata": {},
   "outputs": [],
   "source": [
    "from torch.utils.data import Dataset\n",
    "from torch.utils.data import DataLoader"
   ]
  },
  {
   "cell_type": "code",
   "execution_count": 42,
   "id": "4e07eb1a-e989-4542-81b9-090d1f0076c6",
   "metadata": {},
   "outputs": [],
   "source": [
    "class TreatmentDataset(Dataset):\n",
    "    \n",
    "    def __init__(self, X, y, t):\n",
    "        self.X = torch.Tensor(X)\n",
    "        self.y = torch.Tensor(y)\n",
    "        self.t = torch.Tensor(t) # treatment \n",
    "        \n",
    "    def __len__(self):\n",
    "        return len(self.X)\n",
    "    \n",
    "    def __getitem__(self, idx):\n",
    "        return self.X[idx],self.y[idx],self.t[idx]\n",
    "        "
   ]
  },
  {
   "cell_type": "code",
   "execution_count": 43,
   "id": "cd2127be-b9ce-4dfc-922c-8e2da56cdb4b",
   "metadata": {},
   "outputs": [],
   "source": [
    "tr_set = TreatmentDataset(X_train, y_train, z_tr)\n",
    "tr_loader = DataLoader(tr_set, batch_size=32, shuffle=True)"
   ]
  },
  {
   "cell_type": "code",
   "execution_count": 44,
   "id": "1669060c-a862-47c0-995e-d3a06739d15c",
   "metadata": {},
   "outputs": [
    {
     "name": "stdout",
     "output_type": "stream",
     "text": [
      "hi\n"
     ]
    }
   ],
   "source": [
    "for batch in tr_loader:\n",
    "    print(\"hi\")\n",
    "    break"
   ]
  },
  {
   "cell_type": "code",
   "execution_count": null,
   "id": "9a33e95e-7ee5-43df-92b6-e6f2545d4ac9",
   "metadata": {},
   "outputs": [],
   "source": []
  }
 ],
 "metadata": {
  "kernelspec": {
   "display_name": "Python 3 (ipykernel)",
   "language": "python",
   "name": "python3"
  },
  "language_info": {
   "codemirror_mode": {
    "name": "ipython",
    "version": 3
   },
   "file_extension": ".py",
   "mimetype": "text/x-python",
   "name": "python",
   "nbconvert_exporter": "python",
   "pygments_lexer": "ipython3",
   "version": "3.10.4"
  }
 },
 "nbformat": 4,
 "nbformat_minor": 5
}
